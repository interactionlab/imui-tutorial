{
 "cells": [
  {
   "cell_type": "markdown",
   "metadata": {},
   "source": [
    "# Human Activity Recognition\n",
    "Credit to:\n",
    "* https://github.com/guillaume-chevalier/LSTM-Human-Activity-Recognition\n",
    "* https://github.com/cwi-dis/mobile-har-tutorial"
   ]
  },
  {
   "cell_type": "code",
   "execution_count": 1,
   "metadata": {
    "tags": []
   },
   "outputs": [
    {
     "name": "stderr",
     "output_type": "stream",
     "text": [
      "2024-02-10 17:05:06.473370: I tensorflow/core/platform/cpu_feature_guard.cc:182] This TensorFlow binary is optimized to use available CPU instructions in performance-critical operations.\n",
      "To enable the following instructions: AVX2 AVX512F FMA, in other operations, rebuild TensorFlow with the appropriate compiler flags.\n",
      "2024-02-10 17:05:07.575788: W tensorflow/compiler/tf2tensorrt/utils/py_utils.cc:38] TF-TRT Warning: Could not find TensorRT\n"
     ]
    }
   ],
   "source": [
    "import tensorflow as tf\n",
    "\n",
    "import scipy.io\n",
    "import sklearn\n",
    "import sklearn.metrics\n",
    "\n",
    "import pandas as pd\n",
    "import numpy as np\n",
    "#import matplotlib\n",
    "import matplotlib.pyplot as plt\n",
    "#import matplotlib.colors as colors\n",
    "#import matplotlib.cm\n",
    "import pickle\n",
    "\n",
    "import os"
   ]
  },
  {
   "cell_type": "markdown",
   "metadata": {},
   "source": [
    "### GPU and CPU settings\n",
    "If GPU is not available, comment out the bottom block."
   ]
  },
  {
   "cell_type": "code",
   "execution_count": 2,
   "metadata": {
    "tags": []
   },
   "outputs": [],
   "source": [
    "if True:\n",
    "    # Enter either 0 or 1 below to select the GPU to use\n",
    "    os.environ[\"CUDA_VISIBLE_DEVICES\"]=\"0\"\n",
    "\n",
    "    physical_devices = tf.config.experimental.list_physical_devices('GPU')\n",
    "    tf.config.set_visible_devices(physical_devices[0], 'GPU')\n",
    "    tf.config.experimental.set_memory_growth(physical_devices[0], True)"
   ]
  },
  {
   "cell_type": "markdown",
   "metadata": {},
   "source": [
    "### Config your ConvLSTM"
   ]
  },
  {
   "cell_type": "code",
   "execution_count": 3,
   "metadata": {
    "tags": []
   },
   "outputs": [],
   "source": [
    "## UNCOMMENT below line for segmenting the signal in overlapping windows of 90 samples with 50% overlap\n",
    "# segments, labels, subjects = segment_signal(df)\n",
    "\n",
    "## COMMENT below segments + labels files if you want to segment afresh . open a file, where you stored the pickled data\n",
    "segments = pickle.load(open('./data/segments_90_logo.p', 'rb'), encoding='latin1')\n",
    "labels = pickle.load(open('./data/labels_90_logo.p','rb'), encoding='latin1')\n",
    "subjects = pickle.load(open('./data/subjects_90_logo.p','rb'),encoding='latin1')\n",
    "subjects = subjects.astype(int)\n",
    "\n",
    "## dump information to that file (UNCOMMENT to save fresh segmentation!)\n",
    "# pickle.dump(segments, open( './data/segments_90_logo.p','wb'))\n",
    "# pickle.dump(labels, open( './data/labels_90_logo.p','wb'))\n",
    "# pickle.dump(subjects, open( './data/subjects_90_logo.p','wb'))\n",
    "\n",
    "# segments, labels, subjects = segment_signal(df)\n",
    "\n",
    "groups = np.array(subjects)\n",
    "\n",
    "## defining parameters for the input and network layers\n",
    "## we are treating each segmeent or chunk as a 2D image (90 X 3)\n",
    "numOfSamplesInWindow = segments.shape[1]\n",
    "numOfChannels = segments.shape[2]\n",
    "\n",
    "## reshaping the data for network input\n",
    "reshapedSegments = segments.reshape(segments.shape[0], numOfSamplesInWindow, numOfChannels, 1)\n",
    "## (observations, timesteps, features (x,y,z), channels)\n",
    "\n",
    "# categorically defining the classes of the activities\n",
    "labels = np.asarray(pd.get_dummies(labels),dtype = np.int8)"
   ]
  },
  {
   "cell_type": "code",
   "execution_count": 4,
   "metadata": {
    "tags": []
   },
   "outputs": [
    {
     "data": {
      "text/plain": [
       "(62476, 90, 6, 1)"
      ]
     },
     "execution_count": 4,
     "metadata": {},
     "output_type": "execute_result"
    }
   ],
   "source": [
    "reshapedSegments.shape"
   ]
  },
  {
   "cell_type": "code",
   "execution_count": 5,
   "metadata": {
    "tags": []
   },
   "outputs": [
    {
     "data": {
      "text/plain": [
       "([10, 12, 1, 13, 6, 9, 3, 2, 14, 5], [8, 11, 4], [7])"
      ]
     },
     "execution_count": 5,
     "metadata": {},
     "output_type": "execute_result"
    }
   ],
   "source": [
    "lstPIds = sorted(set(subjects.astype(int)))\n",
    "np.random.seed(42)\n",
    "np.random.shuffle(lstPIds)\n",
    "splitTrain = .7\n",
    "splitVal = .2\n",
    "splitTest = .1\n",
    "splitTrainAmount = int(np.round(len(lstPIds)*splitTrain))\n",
    "splitValAmount = int(np.round(len(lstPIds)*splitVal)) + splitTrainAmount\n",
    "splitTestAmount = int(np.round(len(lstPIds)*splitTest)) + splitValAmount\n",
    "lstPIdsTrain = lstPIds[:splitTrainAmount]\n",
    "lstPIdsVal =  lstPIds[splitTrainAmount:splitValAmount]\n",
    "lstPIdsTest = lstPIds[splitValAmount:]\n",
    "lstPIdsTrain, lstPIdsVal, lstPIdsTest"
   ]
  },
  {
   "cell_type": "code",
   "execution_count": 6,
   "metadata": {
    "tags": []
   },
   "outputs": [],
   "source": [
    "x_train = reshapedSegments[np.isin(subjects, lstPIdsTrain)]\n",
    "x_val = reshapedSegments[np.isin(subjects, lstPIdsVal)]\n",
    "x_test = reshapedSegments[np.isin(subjects, lstPIdsTrain)]\n",
    "\n",
    "y_train_one_hot = labels[np.isin(subjects, lstPIdsTrain)]\n",
    "y_val_one_hot = labels[np.isin(subjects, lstPIdsVal)]\n",
    "y_test_one_hot = labels[np.isin(subjects, lstPIdsTrain)]\n",
    "\n",
    "#x_train = np.expand_dims(x_train, 1)\n",
    "#x_val = np.expand_dims(x_val, 1)\n",
    "#x_test = np.expand_dims(x_test, 1)\n",
    "#\n",
    "#y_train_one_hot = np.expand_dims(y_train_one_hot, 1)\n",
    "#y_val_one_hot = np.expand_dims(y_val_one_hot, 1)\n",
    "#y_test_one_hot = np.expand_dims(y_test_one_hot, 1)\n"
   ]
  },
  {
   "cell_type": "code",
   "execution_count": 7,
   "metadata": {},
   "outputs": [
    {
     "data": {
      "text/plain": [
       "(45511, 90, 6, 1, 1)"
      ]
     },
     "execution_count": 7,
     "metadata": {},
     "output_type": "execute_result"
    }
   ],
   "source": [
    "np.expand_dims(x_train,-1).shape"
   ]
  },
  {
   "cell_type": "code",
   "execution_count": 8,
   "metadata": {
    "tags": []
   },
   "outputs": [
    {
     "data": {
      "text/plain": [
       "[<matplotlib.lines.Line2D at 0x7fc35b54a390>,\n",
       " <matplotlib.lines.Line2D at 0x7fc35b52e710>,\n",
       " <matplotlib.lines.Line2D at 0x7fc35b52ea50>,\n",
       " <matplotlib.lines.Line2D at 0x7fc35b52ee50>,\n",
       " <matplotlib.lines.Line2D at 0x7fc35b52f190>,\n",
       " <matplotlib.lines.Line2D at 0x7fc35b52f550>]"
      ]
     },
     "execution_count": 8,
     "metadata": {},
     "output_type": "execute_result"
    },
    {
     "data": {
      "image/png": "[encoded data removed]",
      "text/plain": [
       "<Figure size 640x480 with 1 Axes>"
      ]
     },
     "metadata": {},
     "output_type": "display_data"
    }
   ],
   "source": [
    "plt.plot(x_train[0].reshape(90,-1))\n",
    "plt.show()"
   ]
  },
  {
   "cell_type": "code",
   "execution_count": 9,
   "metadata": {
    "tags": []
   },
   "outputs": [
    {
     "name": "stdout",
     "output_type": "stream",
     "text": [
      "(62476, 12)\n",
      "12\n"
     ]
    }
   ],
   "source": [
    "# number of epochs\n",
    "Epochs = 2\n",
    "\n",
    "batch_size = 32\n",
    "\n",
    "## ConvLSTM net hyperparameters\n",
    "numChannels = 1\n",
    "numFilters = 128 # number of filters in Conv2D layer\n",
    "# kernal size of the Conv2D layer\n",
    "kernalSize1 = 2\n",
    "# max pooling window size\n",
    "poolingWindowSz = 2\n",
    "# number of filters in fully connected layers\n",
    "numNueronsFCL1 = 128\n",
    "numNueronsFCL2 = 128\n",
    "\n",
    "# number of total classes\n",
    "numClasses = labels.shape[1]\n",
    "# dropout ratio for dropout layer\n",
    "dropOutRatio = 0.2\n",
    "\n",
    "## number of total clases\n",
    "numClasses = labels.shape[1]\n",
    "print(labels.shape)\n",
    "print(numClasses)"
   ]
  },
  {
   "cell_type": "code",
   "execution_count": 10,
   "metadata": {
    "tags": []
   },
   "outputs": [
    {
     "name": "stderr",
     "output_type": "stream",
     "text": [
      "2024-02-10 17:05:15.200876: I tensorflow/core/common_runtime/gpu/gpu_device.cc:1635] Created device /job:localhost/replica:0/task:0/device:GPU:0 with 22888 MB memory:  -> device: 0, name: Tesla V100-SXM2-32GB, pci bus id: 0000:62:00.0, compute capability: 7.0\n"
     ]
    },
    {
     "name": "stdout",
     "output_type": "stream",
     "text": [
      "Model: \"model\"\n",
      "_________________________________________________________________\n",
      " Layer (type)                Output Shape              Param #   \n",
      "=================================================================\n",
      " input (InputLayer)          [(None, 90, 6, 1)]        0         \n",
      "                                                                 \n",
      " conv_lstm1d (ConvLSTM1D)    (None, 5, 128)            132608    \n",
      "                                                                 \n",
      " flatten (Flatten)           (None, 640)               0         \n",
      "                                                                 \n",
      " dense (Dense)               (None, 128)               82048     \n",
      "                                                                 \n",
      " dense_1 (Dense)             (None, 128)               16512     \n",
      "                                                                 \n",
      " dense_2 (Dense)             (None, 12)                1548      \n",
      "                                                                 \n",
      "=================================================================\n",
      "Total params: 232,716\n",
      "Trainable params: 232,716\n",
      "Non-trainable params: 0\n",
      "_________________________________________________________________\n"
     ]
    }
   ],
   "source": [
    "\n",
    "inputs = tf.keras.layers.Input(shape=(numOfSamplesInWindow, numOfChannels, 1), name=\"input\")\n",
    "layer = tf.keras.layers.ConvLSTM1D(numFilters, kernalSize1)(inputs)\n",
    "layer = tf.keras.layers.Flatten()(layer)\n",
    "layer = tf.keras.layers.Dense(numNueronsFCL1, activation='relu')(layer)\n",
    "layer = tf.keras.layers.Dense(numNueronsFCL2, activation='relu')(layer)\n",
    "output = tf.keras.layers.Dense(numClasses, activation='softmax')(layer)\n",
    "\n",
    "model = tf.keras.Model(inputs=inputs, outputs=output)\n",
    "\n",
    "\n",
    "## Compiling the model to generate a model\n",
    "optimizer = tf.keras.optimizers.Adam(learning_rate = 0.001)\n",
    "model.compile(loss='categorical_crossentropy',\n",
    "              optimizer=optimizer,\n",
    "              metrics=['accuracy'])\n",
    "model.summary()"
   ]
  },
  {
   "cell_type": "markdown",
   "metadata": {},
   "source": [
    "### Train, evaluate & save your network"
   ]
  },
  {
   "cell_type": "code",
   "execution_count": 11,
   "metadata": {
    "tags": []
   },
   "outputs": [
    {
     "name": "stdout",
     "output_type": "stream",
     "text": [
      "Epoch 1/2\n"
     ]
    },
    {
     "name": "stderr",
     "output_type": "stream",
     "text": [
      "2024-02-10 17:05:19.826790: I tensorflow/compiler/xla/stream_executor/cuda/cuda_dnn.cc:424] Loaded cuDNN version 8600\n",
      "2024-02-10 17:05:20.282150: I tensorflow/compiler/xla/service/service.cc:169] XLA service 0x7fc0c0008b60 initialized for platform CUDA (this does not guarantee that XLA will be used). Devices:\n",
      "2024-02-10 17:05:20.282211: I tensorflow/compiler/xla/service/service.cc:177]   StreamExecutor device (0): Tesla V100-SXM2-32GB, Compute Capability 7.0\n",
      "2024-02-10 17:05:20.294616: I tensorflow/compiler/mlir/tensorflow/utils/dump_mlir_util.cc:269] disabling MLIR crash reproducer, set env var `MLIR_CRASH_REPRODUCER_DIRECTORY` to enable.\n",
      "2024-02-10 17:05:20.500601: I ./tensorflow/compiler/jit/device_compiler.h:180] Compiled cluster using XLA!  This line is logged at most once for the lifetime of the process.\n"
     ]
    },
    {
     "name": "stdout",
     "output_type": "stream",
     "text": [
      "1423/1423 [==============================] - 755s 526ms/step - loss: 0.8266 - accuracy: 0.6990 - val_loss: 1.1959 - val_accuracy: 0.6133\n",
      "Epoch 2/2\n",
      "1423/1423 [==============================] - 746s 524ms/step - loss: 0.5211 - accuracy: 0.8062 - val_loss: 1.0496 - val_accuracy: 0.6453\n"
     ]
    }
   ],
   "source": [
    "history = model.fit(x_train,\n",
    "                    y_train_one_hot,\n",
    "                    validation_data=(x_val, y_val_one_hot),\n",
    "                    epochs=Epochs,\n",
    "                    batch_size=batch_size,\n",
    "                    verbose=1)"
   ]
  },
  {
   "cell_type": "code",
   "execution_count": 12,
   "metadata": {},
   "outputs": [
    {
     "data": {
      "text/plain": [
       "<matplotlib.legend.Legend at 0x7fc35b53b210>"
      ]
     },
     "execution_count": 12,
     "metadata": {},
     "output_type": "execute_result"
    },
    {
     "data": {
      "image/png": "[encoded data removed]",
      "text/plain": [
       "<Figure size 640x480 with 1 Axes>"
      ]
     },
     "metadata": {},
     "output_type": "display_data"
    }
   ],
   "source": [
    "plt.plot(np.array(history.history['val_accuracy'])*100, label=\"Validation Accuracy\")\n",
    "plt.plot(np.array(history.history['accuracy'])*100, label=\"Training Accuracy\")\n",
    "plt.ylabel(\"Accuracy [%]\")\n",
    "plt.xlabel(\"Epochs\")\n",
    "plt.ylim(0,100)\n",
    "plt.xlim(0,)\n",
    "plt.legend()"
   ]
  },
  {
   "cell_type": "code",
   "execution_count": 13,
   "metadata": {
    "tags": []
   },
   "outputs": [
    {
     "name": "stdout",
     "output_type": "stream",
     "text": [
      "437/437 [==============================] - 33s 74ms/step\n",
      "\n",
      " Summary of the precision, recall, F1 score for each class:\n",
      "              precision    recall  f1-score   support\n",
      "\n",
      "           0       0.34      0.61      0.44       789\n",
      "           1       0.34      0.09      0.15       798\n",
      "           2       0.94      0.50      0.65       527\n",
      "           3       0.61      0.95      0.74      1019\n",
      "           4       0.85      0.99      0.91      1378\n",
      "           5       0.99      1.00      0.99      1667\n",
      "           6       0.66      0.57      0.61      1375\n",
      "           7       0.40      0.40      0.40       922\n",
      "           8       0.54      0.53      0.54      1722\n",
      "           9       0.65      0.68      0.67      1344\n",
      "          10       0.65      0.57      0.61      1447\n",
      "          11       0.54      0.40      0.46       986\n",
      "\n",
      "    accuracy                           0.65     13974\n",
      "   macro avg       0.63      0.61      0.60     13974\n",
      "weighted avg       0.65      0.65      0.63     13974\n",
      "\n",
      "\n",
      " Confusion matrix: \n",
      "[[ 482   69    0    1   81    2  146    3    0    3    0    2]\n",
      " [ 478   74    0    0   68    0  175    0    1    0    0    2]\n",
      " [   0    1  263  194    1    3    4   52    6    0    0    3]\n",
      " [   0    0    3  967    1    0    1   11   15   17    2    2]\n",
      " [   3    0    0    2 1363    2    8    0    0    0    0    0]\n",
      " [   1    0    0    2    1 1659    3    1    0    0    0    0]\n",
      " [ 432   70    0    0   85    0  784    0    0    1    1    2]\n",
      " [   0    0    9  114    2    0    6  370  168  196   19   38]\n",
      " [   0    1    0   18    0    0   21  167  920  211  280  104]\n",
      " [   0    0    0    7    1    0    7  219  157  918    7   28]\n",
      " [   0    0    1  114    0    3    6   28  298   13  821  163]\n",
      " [   2    0    3  171    3    2   18   74  131   50  136  396]]\n"
     ]
    }
   ],
   "source": [
    "# use model for inference to get test accuracy\n",
    "y_val_pred = model.predict(x_val)\n",
    "y_val_pred = np.argmax(y_val_pred, axis=1)\n",
    "y_val = np.argmax(y_val_one_hot, axis=1)\n",
    "print ('\\n Summary of the precision, recall, F1 score for each class:')\n",
    "print (sklearn.metrics.classification_report(y_val, y_val_pred))\n",
    "\n",
    "print ('\\n Confusion matrix: ')\n",
    "print (sklearn.metrics.confusion_matrix(y_val, y_val_pred))"
   ]
  },
  {
   "cell_type": "code",
   "execution_count": 18,
   "metadata": {
    "tags": []
   },
   "outputs": [],
   "source": [
    "#converter = tf.lite.TFLiteConverter.from_keras_model(model)\n",
    "#tflite_model = converter.convert()\n",
    "\n",
    "#with open('model.tflite', 'wb') as f:\n",
    "#    f.write(tflite_model)"
   ]
  }
 ],
 "metadata": {
  "kernelspec": {
   "display_name": "Python 3 (ipykernel)",
   "language": "python",
   "name": "python3"
  },
  "language_info": {
   "codemirror_mode": {
    "name": "ipython",
    "version": 3
   },
   "file_extension": ".py",
   "mimetype": "text/x-python",
   "name": "python",
   "nbconvert_exporter": "python",
   "pygments_lexer": "ipython3",
   "version": "3.11.1"
  }
 },
 "nbformat": 4,
 "nbformat_minor": 4
}
